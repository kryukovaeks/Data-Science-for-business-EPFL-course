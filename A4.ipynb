{
 "cells": [
  {
   "cell_type": "markdown",
   "metadata": {},
   "source": [
    "# DSFB Assignment 4 - SOLUTIONS"
   ]
  },
  {
   "cell_type": "markdown",
   "metadata": {},
   "source": [
    "# **PART 1**: Decision Trees\n",
    "\n",
    "Unlike a logit model or a KNN classifier, decision trees are not sensitive to the scaling of categorical features and numeric features. They can find a cut point in arbitrary numeric or categorical features. The implementation of decision trees in sklearn, however, does require categorical features to be one-hot-encoded, even though that is technically not required by the algorithm."
   ]
  },
  {
   "cell_type": "markdown",
   "metadata": {},
   "source": [
    "For this part of the assignment, we  return to the problem of trying to predict the probability of defaulting on a credit card account at a Taiwanese bank. A credit card default happens when a customer fails to pay the minimum due on a credit card bill for more than 6 months. \n",
    "\n",
    "We will use a dataset from a Taiwanese bank with 30,000 observations (Source: *Yeh, I. C., & Lien, C. H. (2009). The comparisons of data mining techniques for the predictive accuracy of probability of default of credit card clients. Expert Systems with Applications, 36(2), 2473-2480.*). Each observation represents an account at the bank at the end of October 2005.  We renamed the variable default_payment_next_month to customer_default. The target variable to predict is `customer_default` -- i.e., whether the customer will default in the following month (1 = Yes or 0 = No). The dataset also includes 23 other explanatory features. \n",
    "\n",
    "Variables are defined as follows:"
   ]
  },
  {
   "cell_type": "markdown",
   "metadata": {},
   "source": [
    "| Feature name     | Variable Type | Description \n",
    "|------------------|---------------|--------------------------------------------------------\n",
    "| customer_default | Binary        | 1 = default in following month; 0 = no default \n",
    "| LIMIT_BAL        | Continuous    | Credit limit   \n",
    "| SEX              | Categorical   | 1 = male; 2 = female\n",
    "| EDUCATION        | Categorical   | 1 = graduate school; 2 = university; 3 = high school; 4 = others\n",
    "| MARRIAGE         | Categorical   | 0 = unknown; 1 = married; 2 = single; 3 = others\n",
    "| AGE              | Continuous    | Age in years  \n",
    "| PAY1             | Categorical   | Repayment status in September, 2005 \n",
    "| PAY2             | Categorical   | Repayment status in August, 2005 \n",
    "| PAY3             | Categorical   | Repayment status in July, 2005 \n",
    "| PAY4             | Categorical   | Repayment status in June, 2005 \n",
    "| PAY5             | Categorical   | Repayment status in May, 2005 \n",
    "| PAY6             | Categorical   | Repayment status in April, 2005 \n",
    "| BILL_AMT1        | Continuous    | Balance in September, 2005  \n",
    "| BILL_AMT2        | Continuous    | Balance in August, 2005  \n",
    "| BILL_AMT3        | Continuous    | Balance in July, 2005  \n",
    "| BILL_AMT4        | Continuous    | Balance in June, 2005 \n",
    "| BILL_AMT5        | Continuous    | Balance in May, 2005  \n",
    "| BILL_AMT6        | Continuous    | Balance in April, 2005  \n",
    "| PAY_AMT1         | Continuous    | Amount paid in September, 2005\n",
    "| PAY_AMT2         | Continuous    | Amount paid in August, 2005\n",
    "| PAY_AMT3         | Continuous    | Amount paid in July, 2005\n",
    "| PAY_AMT4         | Continuous    | Amount paid in June, 2005\n",
    "| PAY_AMT5         | Continuous    | Amount paid in May, 2005\n",
    "| PAY_AMT6         | Continuous    | Amount paid in April, 2005"
   ]
  },
  {
   "cell_type": "markdown",
   "metadata": {},
   "source": [
    "The measurement scale for repayment status is:   \n",
    "\n",
    "    -2 = payment two months in advance   \n",
    "    -1 = payment one month in advance   \n",
    "    0 = pay duly   \n",
    "    1 = payment delay for one month   \n",
    "    2 = payment delay for two months   \n",
    "    3 = payment delay for three months   \n",
    "    4 = payment delay for four months   \n",
    "    5 = payment delay for five months   \n",
    "    6 = payment delay for six months   \n",
    "    7 = payment delay for seven months   \n",
    "    8 = payment delay for eight months   \n",
    "    9 = payment delay for nine months or more  "
   ]
  },
  {
   "cell_type": "markdown",
   "metadata": {},
   "source": [
    "### **Setup**  "
   ]
  },
  {
   "cell_type": "markdown",
   "metadata": {},
   "source": [
    "### Imports"
   ]
  },
  {
   "cell_type": "code",
   "execution_count": 214,
   "metadata": {},
   "outputs": [],
   "source": [
    "# Standard imports\n",
    "import numpy  as np\n",
    "import pandas as pd\n",
    "import tensorflow as tf\n",
    "from tensorflow import keras\n",
    "import itertools\n",
    "import pandas_profiling\n",
    "\n",
    "# scikit-learn: Models\n",
    "from sklearn.dummy           import DummyClassifier\n",
    "from sklearn.linear_model    import LogisticRegression\n",
    "from sklearn.svm             import SVC\n",
    "from sklearn.neighbors       import KNeighborsClassifier\n",
    "from sklearn.tree            import DecisionTreeClassifier\n",
    "from sklearn.ensemble        import RandomForestClassifier\n",
    "from sklearn.ensemble        import GradientBoostingClassifier\n",
    "\n",
    "# scikit-learn: Supporting functions \n",
    "from sklearn.metrics         import confusion_matrix\n",
    "from sklearn.metrics         import roc_curve\n",
    "from sklearn.metrics         import roc_auc_score\n",
    "from sklearn.pipeline        import Pipeline\n",
    "from sklearn.preprocessing   import StandardScaler\n",
    "from sklearn.model_selection import train_test_split\n",
    "from sklearn.tree            import export_graphviz\n",
    "from sklearn.decomposition   import PCA\n",
    "\n",
    "# Plotting\n",
    "import matplotlib.pyplot as plt\n",
    "from matplotlib.colors import ListedColormap\n",
    "%matplotlib inline  \n",
    "import seaborn as sns\n",
    "sns.set(style=\"white\")\n",
    "\n",
    "# ignore some warnings \n",
    "import warnings\n",
    "warnings.filterwarnings('ignore')"
   ]
  },
  {
   "cell_type": "markdown",
   "metadata": {},
   "source": [
    "### Constants"
   ]
  },
  {
   "cell_type": "code",
   "execution_count": 61,
   "metadata": {},
   "outputs": [],
   "source": [
    "# Set a seed for replication\n",
    "SEED = 1"
   ]
  },
  {
   "cell_type": "markdown",
   "metadata": {},
   "source": [
    "### Custom Functions"
   ]
  },
  {
   "cell_type": "markdown",
   "metadata": {},
   "source": [
    "We will also define a few \"helper functions\" to automate repetitive tasks that we will perform below."
   ]
  },
  {
   "cell_type": "code",
   "execution_count": 62,
   "metadata": {},
   "outputs": [],
   "source": [
    "def plot_confusion_matrix(cm, classes=[0,1], normalize=False, title='Confusion Matrix', cmap=plt.cm.Reds):\n",
    "    \"\"\" \n",
    "    Function to plot a sklearn confusion matrix, showing number of cases per prediction condition \n",
    "    \n",
    "    Args:\n",
    "        cm         an sklearn confusion matrix\n",
    "        classes    levels of the class being predicted; default to binary outcome\n",
    "        normalize  apply normalization by setting `normalize=True`\n",
    "        title      title for the plot\n",
    "        cmap       color map\n",
    "    \"\"\"\n",
    "    plt.imshow(cm, interpolation='nearest', cmap=cmap)\n",
    "    plt.title(title)\n",
    "    plt.colorbar()\n",
    "    tick_marks = np.arange(len(classes))\n",
    "    plt.xticks(tick_marks, classes, rotation=45)\n",
    "    plt.yticks(tick_marks, classes)\n",
    "    if normalize:\n",
    "        cm = cm.astype('float') / cm.sum(axis=1)[:, np.newaxis]\n",
    "    thresh = cm.max() / 2.0\n",
    "    for i, j in itertools.product(range(cm.shape[0]), range(cm.shape[1])):\n",
    "        plt.text(j, i, round (cm[i, j],2), horizontalalignment=\"center\",\n",
    "                 color=\"white\" if cm[i, j] > thresh else \"black\")\n",
    "    plt.tight_layout()\n",
    "    plt.ylabel('Actual label')\n",
    "    plt.xlabel('Predicted label')"
   ]
  },
  {
   "cell_type": "code",
   "execution_count": 63,
   "metadata": {},
   "outputs": [],
   "source": [
    "def plot_roc(fpr, tpr, title='ROC Curve', note=''):\n",
    "    \"\"\"\n",
    "    Function to plot an ROC curve in a consistent way.\n",
    "    \n",
    "    Args:\n",
    "        fpr        False Positive Rate (list of multiple points)\n",
    "        tpr        True Positive Rate (list of multiple points)\n",
    "        title      Title above the plot\n",
    "        note       Note to display in the bottom-right of the plot\n",
    "    \"\"\"\n",
    "    plt.figure(1)\n",
    "    plt.plot([0, 1], [0, 1], 'k--')\n",
    "    plt.plot(fpr, tpr)\n",
    "    plt.xlabel('False positive rate')\n",
    "    plt.ylabel('True positive rate')\n",
    "    plt.title(title)\n",
    "    if note: plt.text(0.6, 0.2, note)\n",
    "    plt.show()"
   ]
  },
  {
   "cell_type": "code",
   "execution_count": 64,
   "metadata": {},
   "outputs": [],
   "source": [
    "def print_feature_importance(tree_model, feature_names):\n",
    "    \"\"\"\n",
    "    Function to print a list of features from an sklearn tree model (ranked by importance of the feature)\n",
    "    \n",
    "    Args:\n",
    "        tree_model       A sklearn DecisionTreeClassifier()\n",
    "        feature_names    A list of features used by the DecisionTreeClassifier\n",
    "    \"\"\"\n",
    "    print('Feature'.center(12), '   ',  'Importance')\n",
    "    print('=' * 30)\n",
    "    for index in reversed(np.argsort(tree_model.feature_importances_)):\n",
    "        print(str(feature_names[index]).center(12) , '   ', '{0:.4f}'.format(tree_model.feature_importances_[index]).center(8)) "
   ]
  },
  {
   "cell_type": "markdown",
   "metadata": {},
   "source": [
    "### **Load and Preprocess Data**"
   ]
  },
  {
   "cell_type": "code",
   "execution_count": 65,
   "metadata": {},
   "outputs": [],
   "source": [
    "# Load Data\n",
    "data = pd.read_csv('data/credit_data.csv')\n",
    "\n",
    "# One-hot-encode SEX and MARRIAGE  \n",
    "data = pd.get_dummies(data = data, columns = ['SEX', 'MARRIAGE'])\n",
    "\n",
    "# Drop the ID column\n",
    "data = data.drop(columns = ['ID'], axis = 1)\n",
    "\n",
    "# Sort Columns alphabetically\n",
    "data = data.reindex(sorted(data.columns), axis=1)\n",
    "\n",
    "# Move target variable to first column (not necessary, but easier to see)\n",
    "data = data.set_index('customer_default').reset_index() \n",
    "\n",
    "# Select target\n",
    "y = np.array(data['customer_default'])\n",
    "\n",
    "# Select features \n",
    "features = list(set(list(data.columns)) - set(['customer_default']))\n",
    "X = data.loc[:, features]"
   ]
  },
  {
   "cell_type": "markdown",
   "metadata": {},
   "source": [
    "### **Split Data into `training` / `validation` / `testing`**"
   ]
  },
  {
   "cell_type": "markdown",
   "metadata": {},
   "source": [
    "For the problems that follow, divide the data into three parts:  **training** (60%), **validation** (20%) and **test** (20%). In the python code, refer to those subsets as: \n",
    "\n",
    "| Subset      |  Pct.  |  X code var     | Target code var |\n",
    "|-------------|--------|-----------------|-----------------|\n",
    "| training    |  60%   |  X_train_train  | y_train_train\n",
    "| validation  |  20%   | X_train_val     | y_train_val\n",
    "| testing     |  20%   | X_test          | y_test\n"
   ]
  },
  {
   "cell_type": "code",
   "execution_count": 66,
   "metadata": {},
   "outputs": [],
   "source": [
    "# Use the sklearn train_test_split() function to split data into \"train\", \"validation\", and \"test\" \n",
    "X_train, X_test, y_train, y_test = train_test_split(X, y, test_size=0.2, stratify=y, random_state=SEED)\n",
    "X_train_train, X_train_val, y_train_train, y_train_val = train_test_split(X_train, y_train, test_size=0.25, stratify=y_train, random_state=SEED)"
   ]
  },
  {
   "cell_type": "code",
   "execution_count": 67,
   "metadata": {},
   "outputs": [
    {
     "data": {
      "text/plain": [
       "(0.6, 0.2, 0.2)"
      ]
     },
     "execution_count": 67,
     "metadata": {},
     "output_type": "execute_result"
    }
   ],
   "source": [
    "#Check split\n",
    "X_train_train.shape[0]/X.shape[0],X_train_val.shape[0]/X.shape[0],X_test.shape[0]/X.shape[0]"
   ]
  },
  {
   "cell_type": "markdown",
   "metadata": {},
   "source": [
    "**PROBLEM**: Fit just one tree using the `DecisionTreeClassifier()` function from sklearn. There is no need to use a pipeline for this step, as it is just one tree."
   ]
  },
  {
   "cell_type": "code",
   "execution_count": 68,
   "metadata": {},
   "outputs": [
    {
     "data": {
      "text/plain": [
       "DecisionTreeClassifier()"
      ]
     },
     "execution_count": 68,
     "metadata": {},
     "output_type": "execute_result"
    }
   ],
   "source": [
    "# Fit a one-tree Model      \n",
    "dt=DecisionTreeClassifier()\n",
    "dt.fit(X_train,y_train)\n"
   ]
  },
  {
   "cell_type": "markdown",
   "metadata": {},
   "source": [
    "**PROBLEM**: Test the model and report the AUC. HINT: Make sure you are using the test sets every time you do a final test!"
   ]
  },
  {
   "cell_type": "code",
   "execution_count": 69,
   "metadata": {},
   "outputs": [
    {
     "data": {
      "text/plain": [
       "0.6145560178233728"
      ]
     },
     "execution_count": 69,
     "metadata": {},
     "output_type": "execute_result"
    }
   ],
   "source": [
    "# Test model\n",
    "from sklearn.metrics import roc_auc_score\n",
    "\n",
    "#print AUC\n",
    "y_hat=dt.predict(X_test)\n",
    "roc_auc_score(y_test,y_hat)\n"
   ]
  },
  {
   "cell_type": "markdown",
   "metadata": {},
   "source": [
    "**PROBLEM**: Plot the resulting ROC."
   ]
  },
  {
   "cell_type": "code",
   "execution_count": 70,
   "metadata": {},
   "outputs": [
    {
     "data": {
      "image/png": "[encoded data removed]",
      "text/plain": [
       "<Figure size 432x288 with 1 Axes>"
      ]
     },
     "metadata": {},
     "output_type": "display_data"
    }
   ],
   "source": [
    "# Plot the ROC\n",
    "fpr, tpr, _ = roc_curve(y_test,  dt.predict_proba(X_test)[:,1])\n",
    "plot_roc(fpr, tpr)\n"
   ]
  },
  {
   "cell_type": "markdown",
   "metadata": {},
   "source": [
    "**PROBLEM**: Use the `print_feature_importance()` function given to you above to print the relative feature importances of this model."
   ]
  },
  {
   "cell_type": "code",
   "execution_count": 71,
   "metadata": {},
   "outputs": [
    {
     "name": "stdout",
     "output_type": "stream",
     "text": [
      "  Feature        Importance\n",
      "==============================\n",
      "   PAY_1          0.1607 \n",
      "    AGE           0.0729 \n",
      " BILL_AMT1        0.0688 \n",
      "  PAY_AMT3        0.0610 \n",
      " LIMIT_BAL        0.0561 \n",
      " BILL_AMT2        0.0540 \n",
      "  PAY_AMT6        0.0504 \n",
      " BILL_AMT6        0.0481 \n",
      "  PAY_AMT5        0.0452 \n",
      "  PAY_AMT1        0.0449 \n",
      " BILL_AMT5        0.0445 \n",
      " BILL_AMT3        0.0437 \n",
      " BILL_AMT4        0.0430 \n",
      "  PAY_AMT2        0.0427 \n",
      "   PAY_2          0.0347 \n",
      "  PAY_AMT4        0.0337 \n",
      " EDUCATION        0.0224 \n",
      "   PAY_6          0.0118 \n",
      "   PAY_3          0.0113 \n",
      "   PAY_5          0.0104 \n",
      "   PAY_4          0.0103 \n",
      "   SEX_1          0.0078 \n",
      "   SEX_2          0.0070 \n",
      " MARRIAGE_2       0.0063 \n",
      " MARRIAGE_1       0.0057 \n",
      " MARRIAGE_3       0.0018 \n",
      " MARRIAGE_0       0.0008 \n"
     ]
    }
   ],
   "source": [
    "# Print feature importance\n",
    "\n",
    "print_feature_importance(dt,X.columns)\n"
   ]
  },
  {
   "cell_type": "markdown",
   "metadata": {},
   "source": [
    "### Random Forests\n",
    "\n",
    "Just one tree may be an arbitrary and unreliable model. So next, use the `RandomForestClassifier()` model from sklearn to run a random forest of trees and average across them."
   ]
  },
  {
   "cell_type": "markdown",
   "metadata": {},
   "source": [
    "**PROBLEM**: Build a pipeline for a random forest."
   ]
  },
  {
   "cell_type": "code",
   "execution_count": 72,
   "metadata": {},
   "outputs": [],
   "source": [
    "# Build pipeline\n",
    "from sklearn.pipeline import Pipeline\n",
    "estimator =[('RFC', RandomForestClassifier())]\n",
    "pipeline=Pipeline(estimator)\n",
    "\n"
   ]
  },
  {
   "cell_type": "markdown",
   "metadata": {},
   "source": [
    "**PROBLEM**: Tune for N, the number of trees and print out the results so you can find the best N."
   ]
  },
  {
   "cell_type": "code",
   "execution_count": 80,
   "metadata": {
    "scrolled": true
   },
   "outputs": [
    {
     "name": "stdout",
     "output_type": "stream",
     "text": [
      "     N             AUC    \n",
      " =========================\n",
      "      1.0000      0.5938 \n",
      "      2.0000      0.6412 \n",
      "      3.0000      0.6830 \n",
      "      4.0000      0.6972 \n",
      "      5.0000      0.7123 \n",
      "      6.0000      0.7252 \n",
      "      7.0000      0.7140 \n",
      "      8.0000      0.7265 \n",
      "      9.0000      0.7202 \n",
      "     10.0000      0.7291 \n",
      "     11.0000      0.7347 \n",
      "     12.0000      0.7363 \n",
      "     13.0000      0.7436 \n",
      "     14.0000      0.7411 \n",
      "     15.0000      0.7407 \n",
      "     16.0000      0.7402 \n",
      "     17.0000      0.7470 \n",
      "     18.0000      0.7446 \n",
      "     19.0000      0.7422 \n",
      "     20.0000      0.7475 \n",
      "     21.0000      0.7497 \n",
      "     22.0000      0.7598 \n",
      "     23.0000      0.7587 \n",
      "     24.0000      0.7500 \n",
      "     25.0000      0.7484 \n",
      "     26.0000      0.7536 \n",
      "     27.0000      0.7521 \n",
      "     28.0000      0.7498 \n",
      "     29.0000      0.7551 \n",
      "     30.0000      0.7524 \n",
      "     31.0000      0.7537 \n",
      "     32.0000      0.7648 \n",
      "     33.0000      0.7551 \n",
      "     34.0000      0.7538 \n",
      "     35.0000      0.7565 \n",
      "     36.0000      0.7532 \n",
      "     37.0000      0.7607 \n",
      "     38.0000      0.7634 \n",
      "     39.0000      0.7585 \n",
      "     40.0000      0.7652 \n",
      "     41.0000      0.7529 \n",
      "     42.0000      0.7608 \n",
      "     43.0000      0.7586 \n",
      "     44.0000      0.7636 \n",
      "     45.0000      0.7625 \n",
      "     46.0000      0.7572 \n",
      "     47.0000      0.7621 \n",
      "     48.0000      0.7622 \n",
      "     49.0000      0.7584 \n",
      "     50.0000      0.7627 \n",
      "     51.0000      0.7624 \n",
      "     52.0000      0.7627 \n",
      "     53.0000      0.7630 \n",
      "     54.0000      0.7643 \n",
      "     55.0000      0.7688 \n",
      "     56.0000      0.7606 \n",
      "     57.0000      0.7608 \n",
      "     58.0000      0.7658 \n",
      "     59.0000      0.7649 \n",
      "     60.0000      0.7670 \n",
      "     61.0000      0.7649 \n",
      "     62.0000      0.7575 \n",
      "     63.0000      0.7585 \n",
      "     64.0000      0.7675 \n",
      "     65.0000      0.7615 \n",
      "     66.0000      0.7656 \n",
      "     67.0000      0.7592 \n",
      "     68.0000      0.7609 \n",
      "     69.0000      0.7592 \n",
      "     70.0000      0.7657 \n",
      "     71.0000      0.7661 \n",
      "     72.0000      0.7638 \n",
      "     73.0000      0.7604 \n",
      "     74.0000      0.7648 \n",
      "     75.0000      0.7683 \n",
      "     76.0000      0.7650 \n",
      "     77.0000      0.7667 \n",
      "     78.0000      0.7600 \n",
      "     79.0000      0.7628 \n",
      "     80.0000      0.7685 \n",
      "     81.0000      0.7698 \n",
      "     82.0000      0.7642 \n",
      "     83.0000      0.7669 \n",
      "     84.0000      0.7634 \n",
      "     85.0000      0.7721 \n",
      "     86.0000      0.7672 \n",
      "     87.0000      0.7683 \n",
      "     88.0000      0.7644 \n",
      "     89.0000      0.7642 \n",
      "     90.0000      0.7701 \n",
      "     91.0000      0.7671 \n",
      "     92.0000      0.7675 \n",
      "     93.0000      0.7644 \n",
      "     94.0000      0.7663 \n",
      "     95.0000      0.7683 \n",
      "     96.0000      0.7660 \n",
      "     97.0000      0.7660 \n",
      "     98.0000      0.7679 \n",
      "     99.0000      0.7631 \n"
     ]
    }
   ],
   "source": [
    "# Tune N   \n",
    "\n",
    "results = []\n",
    "for N in range(1,100):\n",
    "    pipeline.set_params(RFC__n_estimators=N) \n",
    "    pipeline.fit(X_train_train,y_train_train)\n",
    "    y_train_pred = pipeline.predict_proba(X_train_val)       # use validation set during hyper-parameter tuning\n",
    "    auc_rft = roc_auc_score(y_train_val, y_train_pred[:,1])   \n",
    "    results.append( (auc_rft, N)  )\n",
    "# View results \n",
    "print('N'.center(12), '   ', 'AUC'.center(8), '\\n', '=' * 25)\n",
    "for (auc, N) in results:\n",
    "    print('{0:.4f}'.format(N).rjust(12), '   ',  '{0:.4f}'.format(auc).center(8))"
   ]
  },
  {
   "cell_type": "code",
   "execution_count": 81,
   "metadata": {},
   "outputs": [
    {
     "data": {
      "text/html": [
       "<div>\n",
       "<style scoped>\n",
       "    .dataframe tbody tr th:only-of-type {\n",
       "        vertical-align: middle;\n",
       "    }\n",
       "\n",
       "    .dataframe tbody tr th {\n",
       "        vertical-align: top;\n",
       "    }\n",
       "\n",
       "    .dataframe thead th {\n",
       "        text-align: right;\n",
       "    }\n",
       "</style>\n",
       "<table border=\"1\" class=\"dataframe\">\n",
       "  <thead>\n",
       "    <tr style=\"text-align: right;\">\n",
       "      <th></th>\n",
       "      <th>roc_auc</th>\n",
       "      <th>N</th>\n",
       "    </tr>\n",
       "  </thead>\n",
       "  <tbody>\n",
       "    <tr>\n",
       "      <th>84</th>\n",
       "      <td>0.772097</td>\n",
       "      <td>85</td>\n",
       "    </tr>\n",
       "  </tbody>\n",
       "</table>\n",
       "</div>"
      ],
      "text/plain": [
       "     roc_auc   N\n",
       "84  0.772097  85"
      ]
     },
     "execution_count": 81,
     "metadata": {},
     "output_type": "execute_result"
    }
   ],
   "source": [
    "#select tthe best N\n",
    "pd.DataFrame(results,columns=['roc_auc','N'])[pd.DataFrame(results,columns=['roc_auc','N']).roc_auc==pd.DataFrame(results,columns=['roc_auc','N']).roc_auc.max()]\n"
   ]
  },
  {
   "cell_type": "code",
   "execution_count": 76,
   "metadata": {},
   "outputs": [
    {
     "data": {
      "text/plain": [
       "<matplotlib.collections.PathCollection at 0x7f977da5b410>"
      ]
     },
     "execution_count": 76,
     "metadata": {},
     "output_type": "execute_result"
    },
    {
     "data": {
      "image/png": "[encoded data removed]",
      "text/plain": [
       "<Figure size 432x288 with 1 Axes>"
      ]
     },
     "metadata": {},
     "output_type": "display_data"
    }
   ],
   "source": [
    "#plot auc_roc(N)\n",
    "plt.scatter(x=pd.DataFrame(results,columns=['roc_auc','N'])['N'],y=pd.DataFrame(results,columns=['roc_auc','N'])['roc_auc'])"
   ]
  },
  {
   "cell_type": "markdown",
   "metadata": {},
   "source": [
    "**PROBLEM**: Test the model and report the AUC. HINT: Make sure you are using the test sets every time you do a final test!"
   ]
  },
  {
   "cell_type": "code",
   "execution_count": 84,
   "metadata": {},
   "outputs": [],
   "source": [
    "# Test final model\n",
    " \n",
    "pipeline.set_params(RFC__n_estimators=85)\n",
    "pipeline.fit(X_train,y_train)\n",
    "y_prob_rfc = pipeline.predict_proba(X_test)\n",
    "fpr_rfc, tpr_rfc, _ = roc_curve(y_test, y_prob_rfc[:, 1])\n",
    "best_auc_rfc = roc_auc_score(y_test, y_prob_rfc[:,1])\n",
    "\n"
   ]
  },
  {
   "cell_type": "markdown",
   "metadata": {},
   "source": [
    "**PROBLEM**: Plot the resulting ROC."
   ]
  },
  {
   "cell_type": "code",
   "execution_count": 85,
   "metadata": {},
   "outputs": [
    {
     "data": {
      "image/png": "[encoded data removed]",
      "text/plain": [
       "<Figure size 432x288 with 1 Axes>"
      ]
     },
     "metadata": {},
     "output_type": "display_data"
    }
   ],
   "source": [
    "# Plot the ROC\n",
    "\n",
    "plot_roc(fpr_rfc, tpr_rfc, 'ROC Curve for RandomForestClassifier', 'AUC = %2.4f' % best_auc_rfc)\n",
    "\n"
   ]
  },
  {
   "cell_type": "markdown",
   "metadata": {},
   "source": [
    "**PROBLEM**: Use the `print_feature_importance()` function given to you above to print the relative feature importances of this model."
   ]
  },
  {
   "cell_type": "code",
   "execution_count": 86,
   "metadata": {},
   "outputs": [
    {
     "name": "stdout",
     "output_type": "stream",
     "text": [
      "  Feature        Importance\n",
      "==============================\n",
      "   PAY_1          0.0940 \n",
      "    AGE           0.0649 \n",
      " BILL_AMT1        0.0600 \n",
      " LIMIT_BAL        0.0599 \n",
      " BILL_AMT2        0.0534 \n",
      " BILL_AMT3        0.0512 \n",
      "  PAY_AMT1        0.0499 \n",
      " BILL_AMT6        0.0498 \n",
      " BILL_AMT4        0.0494 \n",
      " BILL_AMT5        0.0487 \n",
      "  PAY_AMT2        0.0473 \n",
      "   PAY_2          0.0468 \n",
      "  PAY_AMT6        0.0463 \n",
      "  PAY_AMT3        0.0446 \n",
      "  PAY_AMT4        0.0435 \n",
      "  PAY_AMT5        0.0432 \n",
      "   PAY_3          0.0281 \n",
      "   PAY_4          0.0225 \n",
      "   PAY_5          0.0209 \n",
      " EDUCATION        0.0198 \n",
      "   PAY_6          0.0193 \n",
      "   SEX_1          0.0087 \n",
      " MARRIAGE_2       0.0086 \n",
      "   SEX_2          0.0086 \n",
      " MARRIAGE_1       0.0086 \n",
      " MARRIAGE_3       0.0016 \n",
      " MARRIAGE_0       0.0003 \n"
     ]
    }
   ],
   "source": [
    "# Print feature importance\n",
    "\n",
    "\n",
    "print_feature_importance(pipeline['RFC'],X.columns)\n"
   ]
  },
  {
   "cell_type": "markdown",
   "metadata": {},
   "source": [
    "# **PART 2**: Isolation Forests"
   ]
  },
  {
   "cell_type": "code",
   "execution_count": 87,
   "metadata": {},
   "outputs": [],
   "source": [
    "%reset -f"
   ]
  },
  {
   "cell_type": "markdown",
   "metadata": {},
   "source": [
    "The **Isolation Forest** is a decision tree method for anomaly detection.  \n",
    "\n",
    "The isolation forest is an _unsupervised_ learning algorithm **based on the Decision Tree algorithm** that identifies an anomaly by isolating outliers in the data. It isolates the outliers by randomly selecting a feature from the given set of features and then randomly selecting a split value between the max and min values of that feature. This random partitioning of features will produce shorter paths in trees for the anomalous data points, thus distinguishing them from the rest of the data.\n",
    "\n",
    "In general the first step to anomaly detection is to construct a profile of what is \"normal\", and then report anything that cannot be considered normal as anomalous. The isolation forest algorithm, however, does **not** work on that principle -- it does not define \"normal\" behavior or calculate point-based distances (such as a clustering approach). Instead, isolation forests recursively partition the *dataset* by randomly selecting a feature and then randomly selecting a split value for the feature. The main insight here is that anomalies (such as a case of fraud) should require fewer random partitions to be *isolated* from \"normal\" observations in the dataset because they are fundamentally different. Anomalies can therefore be identified as the points with a shorter-length path in the tree (path length being the number of edges traversed from the root node). Isolation forests not only detect anomalies faster but we also require less memory compared to other algorithms."
   ]
  },
  {
   "cell_type": "markdown",
   "metadata": {},
   "source": [
    "### **Setup**  "
   ]
  },
  {
   "cell_type": "markdown",
   "metadata": {},
   "source": [
    "### Imports"
   ]
  },
  {
   "cell_type": "code",
   "execution_count": 1,
   "metadata": {
    "ExecuteTime": {
     "end_time": "2020-10-14T16:10:12.565947Z",
     "start_time": "2020-10-14T16:10:05.393175Z"
    }
   },
   "outputs": [],
   "source": [
    "# Standard imports\n",
    "import pandas as pd\n",
    "import numpy as np\n",
    "import matplotlib.pyplot as plt\n",
    "import seaborn as sns\n",
    "import random\n",
    "\n",
    "# sklearn\n",
    "from sklearn.preprocessing import StandardScaler\n",
    "from sklearn.preprocessing import RobustScaler\n",
    "from sklearn.model_selection import GridSearchCV\n",
    "from sklearn.covariance import EmpiricalCovariance, MinCovDet\n",
    "from sklearn.decomposition import PCA\n",
    "from sklearn.utils.class_weight import compute_class_weight\n",
    "\n",
    "# Isolation forest\n",
    "from sklearn.ensemble import IsolationForest\n",
    "\n",
    "# plotting\n",
    "%matplotlib inline\n",
    "plt.rcParams['figure.figsize'] = [12, 8]\n",
    "\n",
    "import warnings\n",
    "warnings.filterwarnings(\"ignore\")"
   ]
  },
  {
   "cell_type": "markdown",
   "metadata": {},
   "source": [
    "### Constants"
   ]
  },
  {
   "cell_type": "code",
   "execution_count": 2,
   "metadata": {},
   "outputs": [],
   "source": [
    "# Set a seed for replication\n",
    "SEED = 1"
   ]
  },
  {
   "cell_type": "markdown",
   "metadata": {},
   "source": [
    "### Get Data"
   ]
  },
  {
   "cell_type": "code",
   "execution_count": 3,
   "metadata": {
    "ExecuteTime": {
     "end_time": "2020-10-14T16:10:12.612568Z",
     "start_time": "2020-10-14T16:10:12.570478Z"
    }
   },
   "outputs": [
    {
     "data": {
      "text/html": [
       "<div>\n",
       "<style scoped>\n",
       "    .dataframe tbody tr th:only-of-type {\n",
       "        vertical-align: middle;\n",
       "    }\n",
       "\n",
       "    .dataframe tbody tr th {\n",
       "        vertical-align: top;\n",
       "    }\n",
       "\n",
       "    .dataframe thead th {\n",
       "        text-align: right;\n",
       "    }\n",
       "</style>\n",
       "<table border=\"1\" class=\"dataframe\">\n",
       "  <thead>\n",
       "    <tr style=\"text-align: right;\">\n",
       "      <th></th>\n",
       "      <th>salary</th>\n",
       "      <th>age</th>\n",
       "      <th>nb_siblings</th>\n",
       "      <th>fraud</th>\n",
       "    </tr>\n",
       "  </thead>\n",
       "  <tbody>\n",
       "    <tr>\n",
       "      <th>Brandon Russell</th>\n",
       "      <td>2934.0</td>\n",
       "      <td>54.0</td>\n",
       "      <td>1</td>\n",
       "      <td>0</td>\n",
       "    </tr>\n",
       "    <tr>\n",
       "      <th>Steven Johnson</th>\n",
       "      <td>2387.0</td>\n",
       "      <td>32.0</td>\n",
       "      <td>1</td>\n",
       "      <td>0</td>\n",
       "    </tr>\n",
       "    <tr>\n",
       "      <th>Evelyn Christian</th>\n",
       "      <td>2731.0</td>\n",
       "      <td>54.0</td>\n",
       "      <td>2</td>\n",
       "      <td>0</td>\n",
       "    </tr>\n",
       "    <tr>\n",
       "      <th>George Cook</th>\n",
       "      <td>3471.0</td>\n",
       "      <td>54.0</td>\n",
       "      <td>1</td>\n",
       "      <td>0</td>\n",
       "    </tr>\n",
       "    <tr>\n",
       "      <th>Aaron Graham</th>\n",
       "      <td>1994.0</td>\n",
       "      <td>30.0</td>\n",
       "      <td>2</td>\n",
       "      <td>0</td>\n",
       "    </tr>\n",
       "  </tbody>\n",
       "</table>\n",
       "</div>"
      ],
      "text/plain": [
       "                  salary   age  nb_siblings  fraud\n",
       "Brandon Russell   2934.0  54.0            1      0\n",
       "Steven Johnson    2387.0  32.0            1      0\n",
       "Evelyn Christian  2731.0  54.0            2      0\n",
       "George Cook       3471.0  54.0            1      0\n",
       "Aaron Graham      1994.0  30.0            2      0"
      ]
     },
     "execution_count": 3,
     "metadata": {},
     "output_type": "execute_result"
    }
   ],
   "source": [
    "# Reading the data generated from previous notebook\n",
    "data = pd.read_csv('data/data_simulated_fraud.csv', index_col=0)\n",
    "\n",
    "data.head()"
   ]
  },
  {
   "cell_type": "markdown",
   "metadata": {},
   "source": [
    "**PROBLEM**: Define and fit a basic (default) isolation forest model"
   ]
  },
  {
   "cell_type": "code",
   "execution_count": 4,
   "metadata": {
    "ExecuteTime": {
     "end_time": "2020-10-14T16:10:19.843844Z",
     "start_time": "2020-10-14T16:10:19.774829Z"
    }
   },
   "outputs": [],
   "source": [
    "# Define & fit the isolation forest model\n",
    "\n",
    "model=IsolationForest().fit(data[['salary','age','nb_siblings']])\n"
   ]
  },
  {
   "cell_type": "markdown",
   "metadata": {},
   "source": [
    "**PROBLEM**: Inspect the decision function (split points) for the model to confirm it did something!"
   ]
  },
  {
   "cell_type": "code",
   "execution_count": 5,
   "metadata": {},
   "outputs": [],
   "source": [
    "data['scores']=model.decision_function(data[['salary','age','nb_siblings']])\n"
   ]
  },
  {
   "cell_type": "markdown",
   "metadata": {},
   "source": [
    "**PROBLEM**: Use the model to predict anomalies"
   ]
  },
  {
   "cell_type": "code",
   "execution_count": 6,
   "metadata": {
    "ExecuteTime": {
     "end_time": "2020-10-14T16:10:19.964657Z",
     "start_time": "2020-10-14T16:10:19.897738Z"
    }
   },
   "outputs": [
    {
     "data": {
      "text/html": [
       "<div>\n",
       "<style scoped>\n",
       "    .dataframe tbody tr th:only-of-type {\n",
       "        vertical-align: middle;\n",
       "    }\n",
       "\n",
       "    .dataframe tbody tr th {\n",
       "        vertical-align: top;\n",
       "    }\n",
       "\n",
       "    .dataframe thead th {\n",
       "        text-align: right;\n",
       "    }\n",
       "</style>\n",
       "<table border=\"1\" class=\"dataframe\">\n",
       "  <thead>\n",
       "    <tr style=\"text-align: right;\">\n",
       "      <th></th>\n",
       "      <th>salary</th>\n",
       "      <th>age</th>\n",
       "      <th>nb_siblings</th>\n",
       "      <th>fraud</th>\n",
       "      <th>scores</th>\n",
       "      <th>anomaly</th>\n",
       "    </tr>\n",
       "  </thead>\n",
       "  <tbody>\n",
       "    <tr>\n",
       "      <th>Brandon Russell</th>\n",
       "      <td>2934.0</td>\n",
       "      <td>54.0</td>\n",
       "      <td>1</td>\n",
       "      <td>0</td>\n",
       "      <td>0.041385</td>\n",
       "      <td>1</td>\n",
       "    </tr>\n",
       "    <tr>\n",
       "      <th>Steven Johnson</th>\n",
       "      <td>2387.0</td>\n",
       "      <td>32.0</td>\n",
       "      <td>1</td>\n",
       "      <td>0</td>\n",
       "      <td>0.081489</td>\n",
       "      <td>1</td>\n",
       "    </tr>\n",
       "    <tr>\n",
       "      <th>Evelyn Christian</th>\n",
       "      <td>2731.0</td>\n",
       "      <td>54.0</td>\n",
       "      <td>2</td>\n",
       "      <td>0</td>\n",
       "      <td>-0.029392</td>\n",
       "      <td>-1</td>\n",
       "    </tr>\n",
       "    <tr>\n",
       "      <th>George Cook</th>\n",
       "      <td>3471.0</td>\n",
       "      <td>54.0</td>\n",
       "      <td>1</td>\n",
       "      <td>0</td>\n",
       "      <td>-0.082662</td>\n",
       "      <td>-1</td>\n",
       "    </tr>\n",
       "    <tr>\n",
       "      <th>Aaron Graham</th>\n",
       "      <td>1994.0</td>\n",
       "      <td>30.0</td>\n",
       "      <td>2</td>\n",
       "      <td>0</td>\n",
       "      <td>0.046696</td>\n",
       "      <td>1</td>\n",
       "    </tr>\n",
       "    <tr>\n",
       "      <th>Kyle Jones</th>\n",
       "      <td>2772.0</td>\n",
       "      <td>46.0</td>\n",
       "      <td>0</td>\n",
       "      <td>0</td>\n",
       "      <td>0.045524</td>\n",
       "      <td>1</td>\n",
       "    </tr>\n",
       "    <tr>\n",
       "      <th>Jerome Whitehead</th>\n",
       "      <td>1903.0</td>\n",
       "      <td>30.0</td>\n",
       "      <td>2</td>\n",
       "      <td>0</td>\n",
       "      <td>0.031221</td>\n",
       "      <td>1</td>\n",
       "    </tr>\n",
       "    <tr>\n",
       "      <th>Charles Tyler</th>\n",
       "      <td>2678.0</td>\n",
       "      <td>42.0</td>\n",
       "      <td>2</td>\n",
       "      <td>0</td>\n",
       "      <td>0.057063</td>\n",
       "      <td>1</td>\n",
       "    </tr>\n",
       "    <tr>\n",
       "      <th>Thomas Berry</th>\n",
       "      <td>1617.0</td>\n",
       "      <td>40.0</td>\n",
       "      <td>2</td>\n",
       "      <td>0</td>\n",
       "      <td>-0.070614</td>\n",
       "      <td>-1</td>\n",
       "    </tr>\n",
       "    <tr>\n",
       "      <th>Ryan Mack</th>\n",
       "      <td>2098.0</td>\n",
       "      <td>38.0</td>\n",
       "      <td>0</td>\n",
       "      <td>0</td>\n",
       "      <td>0.015544</td>\n",
       "      <td>1</td>\n",
       "    </tr>\n",
       "  </tbody>\n",
       "</table>\n",
       "</div>"
      ],
      "text/plain": [
       "                  salary   age  nb_siblings  fraud    scores  anomaly\n",
       "Brandon Russell   2934.0  54.0            1      0  0.041385        1\n",
       "Steven Johnson    2387.0  32.0            1      0  0.081489        1\n",
       "Evelyn Christian  2731.0  54.0            2      0 -0.029392       -1\n",
       "George Cook       3471.0  54.0            1      0 -0.082662       -1\n",
       "Aaron Graham      1994.0  30.0            2      0  0.046696        1\n",
       "Kyle Jones        2772.0  46.0            0      0  0.045524        1\n",
       "Jerome Whitehead  1903.0  30.0            2      0  0.031221        1\n",
       "Charles Tyler     2678.0  42.0            2      0  0.057063        1\n",
       "Thomas Berry      1617.0  40.0            2      0 -0.070614       -1\n",
       "Ryan Mack         2098.0  38.0            0      0  0.015544        1"
      ]
     },
     "execution_count": 6,
     "metadata": {},
     "output_type": "execute_result"
    }
   ],
   "source": [
    "# Predict the anomalies\n",
    "data['anomaly']=model.predict(data[['salary','age','nb_siblings']])\n",
    "data.head(10)\n",
    "\n"
   ]
  },
  {
   "cell_type": "code",
   "execution_count": 7,
   "metadata": {},
   "outputs": [],
   "source": [
    "#outliers index\n",
    "outliers=data.loc[data['anomaly']==-1]\n",
    "outlier_index=list(outliers.index)"
   ]
  },
  {
   "cell_type": "markdown",
   "metadata": {},
   "source": [
    "**PROBLEM**: Plot the results, differentiating colors between normal points and anomalies."
   ]
  },
  {
   "cell_type": "code",
   "execution_count": 8,
   "metadata": {},
   "outputs": [
    {
     "data": {
      "image/png": "[encoded data removed]",
      "text/plain": [
       "<Figure size 864x576 with 1 Axes>"
      ]
     },
     "metadata": {
      "needs_background": "light"
     },
     "output_type": "display_data"
    }
   ],
   "source": [
    "# Scatter plot with anomaly labelling from the isolation forest\n",
    "fig = plt.figure()\n",
    "ax = fig.add_subplot(111, projection='3d')\n",
    "ax.set_zlabel(\"x_composite_3\")\n",
    "\n",
    "# Plot data.iloc points\n",
    "ax.scatter(data.iloc[:, 0].values, data.iloc[:, 1].values, zs=data.iloc[:, 2].values, s=4, lw=1, label=\"inliers\",c=\"green\")\n",
    "\n",
    "# Plot x's for the ground truth outliers\n",
    "ax.scatter(data.loc[outlier_index]['salary'].values,\n",
    "           data.loc[outlier_index]['age'].values, \n",
    "           data.loc[outlier_index]['nb_siblings'].values,\n",
    "           lw=2, s=60, marker=\"x\", c=\"red\", label=\"outliers\")\n",
    "ax.legend()\n",
    "plt.show()"
   ]
  },
  {
   "cell_type": "markdown",
   "metadata": {},
   "source": [
    "**PROBLEM** **PROBLEM** **PROBLEM** **PROBLEM**: The above isolation forest used default fixed parameters. Let's optimize parameters by using a \"grid search\" and cross-validation. _HINT:_ You will need to limit the number of parameters and steps in the grid search to reduce the computational time. or it could take a very, very long time. (**Worth 4 points**)"
   ]
  },
  {
   "cell_type": "code",
   "execution_count": 9,
   "metadata": {},
   "outputs": [],
   "source": [
    "#replace fraud=1 -> anomalies\n",
    "data['fraud']=data['fraud'].replace({1:-1,0:1})"
   ]
  },
  {
   "cell_type": "code",
   "execution_count": 10,
   "metadata": {},
   "outputs": [
    {
     "data": {
      "text/plain": [
       "Brandon Russell     1\n",
       "Steven Johnson      1\n",
       "Evelyn Christian    1\n",
       "George Cook         1\n",
       "Aaron Graham        1\n",
       "                   ..\n",
       "Beth Stevens       -1\n",
       "Kristen Smith      -1\n",
       "Donna Lewis        -1\n",
       "Ashley Gallegos    -1\n",
       "Leslie Nguyen      -1\n",
       "Name: fraud, Length: 100, dtype: int64"
      ]
     },
     "execution_count": 10,
     "metadata": {},
     "output_type": "execute_result"
    }
   ],
   "source": [
    "data['fraud']"
   ]
  },
  {
   "cell_type": "code",
   "execution_count": 160,
   "metadata": {},
   "outputs": [],
   "source": [
    "f1sc = make_scorer(f1_score)"
   ]
  },
  {
   "cell_type": "code",
   "execution_count": 174,
   "metadata": {
    "ExecuteTime": {
     "end_time": "2020-10-14T16:10:20.597921Z",
     "start_time": "2020-10-14T16:10:20.184214Z"
    },
    "scrolled": true
   },
   "outputs": [
    {
     "data": {
      "text/plain": [
       "GridSearchCV(cv=5, estimator=IsolationForest(),\n",
       "             param_grid={'contamination': [0.1, 0.2, 0.3, 0.4, 0.5],\n",
       "                         'max_samples': [100, 105, 110, 115, 120, 125, 130, 135,\n",
       "                                         140, 145, 150, 155, 160, 165, 170, 175,\n",
       "                                         180, 185, 190, 195, 200, 205, 210, 215,\n",
       "                                         220, 225, 230, 235, 240, 245, ...],\n",
       "                         'n_estimators': [1, 4, 7, 10, 13, 16, 19, 22, 25, 28,\n",
       "                                          31, 34, 37, 40, 43, 46, 49, 52, 55,\n",
       "                                          58, 61, 64, 67, 70, 73, 76, 79, 82,\n",
       "                                          85, 88, ...]},\n",
       "             return_train_score=True, scoring=make_scorer(f1_score))"
      ]
     },
     "execution_count": 174,
     "metadata": {},
     "output_type": "execute_result"
    }
   ],
   "source": [
    "# Tune the isolation forest\n",
    "\n",
    "#!!!!!!!!!Please do not run this cell (it took 0,5 day)\n",
    "\n",
    "\n",
    "from sklearn.model_selection import GridSearchCV, cross_val_score\n",
    "from sklearn.metrics import f1_score, make_scorer\n",
    "\n",
    "\n",
    "#Define parameters\n",
    "parameters={'n_estimators': list(range(1, 100, 3)),\n",
    "           'max_samples': list(range(100, 500, 5)), \n",
    "              'contamination': [0.1, 0.2, 0.3, 0.4, 0.5]}\n",
    "              \n",
    "f1sc = make_scorer(f1_score)\n",
    "\n",
    "# Create a grid search object\n",
    "clf = GridSearchCV(IsolationForest(), \n",
    "                   param_grid=parameters,cv=5,\n",
    "                   scoring=f1sc,refit=True,return_train_score=True)\n",
    "\n",
    "# Fit the grid search\n",
    "clf.fit(data[['salary','age','nb_siblings']],data['fraud'])\n"
   ]
  },
  {
   "cell_type": "code",
   "execution_count": 177,
   "metadata": {},
   "outputs": [],
   "source": [
    "clf_best=clf.best_estimator_"
   ]
  },
  {
   "cell_type": "code",
   "execution_count": 219,
   "metadata": {},
   "outputs": [
    {
     "data": {
      "text/plain": [
       "IsolationForest(contamination=0.1, max_samples=425, n_estimators=16)"
      ]
     },
     "execution_count": 219,
     "metadata": {},
     "output_type": "execute_result"
    }
   ],
   "source": [
    "clf_best"
   ]
  },
  {
   "cell_type": "markdown",
   "metadata": {},
   "source": [
    "**PROBLEM**: Now predict again using your optimized model."
   ]
  },
  {
   "cell_type": "code",
   "execution_count": 14,
   "metadata": {
    "ExecuteTime": {
     "end_time": "2020-10-14T16:10:20.647871Z",
     "start_time": "2020-10-14T16:10:20.603658Z"
    }
   },
   "outputs": [],
   "source": [
    "# Predict\n",
    "model=IsolationForest(contamination=0.1, max_samples=425, n_estimators=16)\n",
    "model.fit(data[['salary','age','nb_siblings']])\n",
    "pred=model.predict(data[['salary','age','nb_siblings']])\n",
    "\n",
    "\n"
   ]
  },
  {
   "cell_type": "code",
   "execution_count": 15,
   "metadata": {},
   "outputs": [],
   "source": [
    "#assign X and y\n",
    "X=data[['salary','age','nb_siblings']]\n",
    "y=data['fraud']"
   ]
  },
  {
   "cell_type": "markdown",
   "metadata": {},
   "source": [
    "**PROBLEM**: Plot the results, differentiating colors between normal points and anomalies."
   ]
  },
  {
   "cell_type": "code",
   "execution_count": 16,
   "metadata": {
    "ExecuteTime": {
     "end_time": "2020-10-14T16:10:20.845855Z",
     "start_time": "2020-10-14T16:10:20.655421Z"
    }
   },
   "outputs": [
    {
     "data": {
      "image/png": "[encoded data removed]",
      "text/plain": [
       "<Figure size 864x576 with 1 Axes>"
      ]
     },
     "metadata": {
      "needs_background": "light"
     },
     "output_type": "display_data"
    }
   ],
   "source": [
    "# Scatter plot with optimized parameters\n",
    "\n",
    "fig = plt.figure()\n",
    "ax = fig.add_subplot(111, projection='3d')\n",
    "ax.set_zlabel(\"x_composite_3\")\n",
    "\n",
    "# Plot data.iloc points\n",
    "ax.scatter(data.iloc[:, 0].values, data.iloc[:, 1].values, zs=data.iloc[:, 2].values, s=4, \n",
    "           lw=1, c=\"green\",label=\"inliers\")\n",
    "\n",
    "\n",
    "# Plot circles around the predicted outliers\n",
    "ax.scatter(data.loc[pred == -1]['salary'].values,\n",
    "           data.loc[pred == -1]['age'].values, \n",
    "           data.loc[pred == -1]['nb_siblings'].values,\n",
    "           edgecolors=\"red\", s=80, label=\"predicted outliers\")\n",
    "\n",
    "\n",
    "# Plot x's for the ground truth outliers\n",
    "ax.scatter(data.loc[y == -1]['salary'].values,\n",
    "           data.loc[y == -1]['age'].values, \n",
    "           data.loc[y == -1]['nb_siblings'].values,\n",
    "           lw=2, s=60, marker=\"x\", c=\"red\", label=\"outliers\")\n",
    "\n",
    "plt.legend()\n",
    "plt.show()\n",
    "\n",
    "\n",
    "\n",
    "\n"
   ]
  },
  {
   "cell_type": "markdown",
   "metadata": {},
   "source": [
    "# **PART 3:** Artificial Neural Networks"
   ]
  },
  {
   "cell_type": "code",
   "execution_count": null,
   "metadata": {},
   "outputs": [],
   "source": [
    "%reset -f"
   ]
  },
  {
   "cell_type": "markdown",
   "metadata": {},
   "source": [
    "In the next sections of the assignment, you will classify images from the MNIST dataset (Source: http://yann.lecun.com/exdb/mnist/). The dataset includes hand written images and you need to predict the number (numerical digit) associated with each image. Every image has a dimension of 28 * 28 pixels and is gray-scale. The input data includes the intensity associated with each pixel row by row, starting from top-left corner (784 pixels in total). \n",
    "\n",
    "The label field shows the number associated with each image. \n",
    "\n",
    "A state-of-the-art model achieves an error rate of only 0.23% (Ciresan et al. CVPR 2012); you should be able to hit an error rate of less than 1% in this assignment. "
   ]
  },
  {
   "cell_type": "markdown",
   "metadata": {},
   "source": [
    "<img src=\"images/mnist_plot.png\" width=\"352\" height=\"280\" align=\"center\"/>"
   ]
  },
  {
   "cell_type": "markdown",
   "metadata": {},
   "source": [
    "## SETUP"
   ]
  },
  {
   "cell_type": "markdown",
   "metadata": {},
   "source": [
    "### Imports"
   ]
  },
  {
   "cell_type": "markdown",
   "metadata": {},
   "source": [
    "Note that this assignment requires Tensorflow version 2. It must be version 2, as the Keras model in Tensorflow changed as of version 2. You can tensorflow with this pip command:\n",
    "\n",
    "    pip install -U tensorflow\n",
    "    \n",
    "To track the progress of some of the longer-running processes in our solutions, we will also use the `tqdm` progressbar. If you wish to do so, you will have to install it\n",
    "\n",
    "    pip install -U tqdm\n"
   ]
  },
  {
   "cell_type": "code",
   "execution_count": 18,
   "metadata": {},
   "outputs": [],
   "source": [
    "# Standard imports\n",
    "import pandas as pd\n",
    "import numpy as np\n",
    "import itertools\n",
    "import pickle\n",
    "import random\n",
    "\n",
    "from copy                    import deepcopy\n",
    "from tqdm                    import tqdm\n",
    "from scipy                   import ndimage\n",
    "\n",
    "# Data science packages\n",
    "from sklearn.model_selection import learning_curve\n",
    "from sklearn.model_selection import validation_curve\n",
    "from sklearn.model_selection import StratifiedShuffleSplit\n",
    "from sklearn.model_selection import train_test_split\n",
    "from sklearn.model_selection import StratifiedKFold\n",
    "\n",
    "from sklearn.metrics         import confusion_matrix\n",
    "from sklearn.ensemble        import RandomForestClassifier\n",
    "from sklearn.neighbors       import KNeighborsClassifier\n",
    "from sklearn.dummy           import DummyClassifier\n",
    "from sklearn.linear_model    import LogisticRegression\n",
    "\n",
    "# Neural networks\n",
    "import tensorflow as tf\n",
    "\n",
    "# Visualization \n",
    "import seaborn as sns\n",
    "import matplotlib.pyplot     as plt\n",
    "import matplotlib.animation  as animation\n",
    "from IPython.display         import HTML\n",
    "plt.style.use('ggplot')\n",
    "%matplotlib inline\n",
    "\n",
    "import warnings\n",
    "warnings.simplefilter('ignore')"
   ]
  },
  {
   "cell_type": "code",
   "execution_count": 20,
   "metadata": {},
   "outputs": [
    {
     "name": "stdout",
     "output_type": "stream",
     "text": [
      "tensorflow                         2.0.0a0             \r\n",
      "tensorflow-estimator               2.2.0               \r\n"
     ]
    }
   ],
   "source": [
    "#check version\n",
    "!pip list | grep tensorflow\n"
   ]
  },
  {
   "cell_type": "markdown",
   "metadata": {},
   "source": [
    "### Constant Seed"
   ]
  },
  {
   "cell_type": "code",
   "execution_count": 21,
   "metadata": {},
   "outputs": [],
   "source": [
    "# Set constant SEED for probabilistic functions for replicability\n",
    "SEED = 12345"
   ]
  },
  {
   "cell_type": "markdown",
   "metadata": {},
   "source": [
    "### Custom Functions\n",
    "\n",
    "We again give you a few, custom, helper functions to get you going."
   ]
  },
  {
   "cell_type": "code",
   "execution_count": 22,
   "metadata": {},
   "outputs": [],
   "source": [
    "def plot_confusion_matrix(cm, classes=[0,1], normalize=False, title='Confusion Matrix', cmap=plt.cm.Reds):\n",
    "    \"\"\" \n",
    "    Function to plot a sklearn confusion matrix, showing number of cases per prediction condition. \n",
    "    The cm parameter can be an object created by the sklearn confusion_matrix() function.\n",
    "    \n",
    "    Args:\n",
    "        cm         this must be a sklearn confusion matrix \n",
    "        classes    levels of the class being predicted; default to binary outcome\n",
    "        normalize  apply normalization by setting `normalize=True`\n",
    "        title      title for the plot\n",
    "        cmap       color map\n",
    "    \"\"\"\n",
    "    plt.imshow(cm, interpolation='nearest', cmap=cmap)\n",
    "    plt.title(title)\n",
    "    plt.colorbar()\n",
    "    tick_marks = np.arange(len(classes))\n",
    "    plt.xticks(tick_marks, classes, rotation=45)\n",
    "    plt.yticks(tick_marks, classes)\n",
    "    if normalize:\n",
    "        cm = cm.astype('float') / cm.sum(axis=1)[:, np.newaxis]\n",
    "    thresh = cm.max() / 2.0\n",
    "    for i, j in itertools.product(range(cm.shape[0]), range(cm.shape[1])):\n",
    "        plt.text(j, i, round (cm[i, j],2), horizontalalignment=\"center\",\n",
    "                 color=\"white\" if cm[i, j] > thresh else \"black\")\n",
    "    plt.tight_layout()\n",
    "    plt.grid()\n",
    "    plt.ylabel('Actual label')\n",
    "    plt.xlabel('Predicted label')"
   ]
  },
  {
   "cell_type": "code",
   "execution_count": 23,
   "metadata": {},
   "outputs": [],
   "source": [
    "def plot_roc(fpr, tpr, title='ROC Curve', note=''):\n",
    "    \"\"\"\n",
    "    Function to plot an ROC curve in a consistent way.\n",
    "    The fpr and tpr parameters can be created by the sklearn roc_curve() function.\n",
    "    \n",
    "    Args:\n",
    "        fpr        False Positive Rate (list of multiple points)\n",
    "        tpr        True Positive Rate (list of multiple points)\n",
    "        title      Title above the plot\n",
    "        note       Note to display in the bottom-right of the plot\n",
    "    \"\"\"\n",
    "    plt.figure(1)\n",
    "    plt.plot([0, 1], [0, 1], 'k--')\n",
    "    plt.plot(fpr, tpr)\n",
    "    plt.xlabel('False positive rate')\n",
    "    plt.ylabel('True positive rate')\n",
    "    plt.title(title)\n",
    "    if note: plt.text(0.6, 0.2, note)\n",
    "    plt.show()"
   ]
  },
  {
   "cell_type": "code",
   "execution_count": 24,
   "metadata": {},
   "outputs": [],
   "source": [
    "def plot_validation_curve(train_scores, cv_scores, x_data, y_label='', x_label='', x_logscale=False):\n",
    "    \n",
    "    plt.title('Validation Curve')\n",
    "    plt.xlabel(x_label)\n",
    "    plt.ylabel(y_label)\n",
    "    plt.ylim(0.0, 1.1)\n",
    "    \n",
    "    train_scores_mean = np.mean(train_scores, axis=1)\n",
    "    cv_scores_mean    = np.mean(cv_scores,    axis=1)\n",
    "    \n",
    "    if x_logscale:\n",
    "        plt.semilogx(x_data, train_scores_mean, 'o-', color=\"r\", label=\"Training score\")\n",
    "        plt.semilogx(x_data, cv_scores_mean,    'o-', color=\"g\",  label=\"Cross-validation score\")        \n",
    "    else:\n",
    "        plt.plot(x_data, train_scores_mean, 'o-', color=\"r\", label=\"Training score\")\n",
    "        plt.plot(x_data, cv_scores_mean,    'o-', color=\"g\", label=\"Cross-validation score\")\n",
    "        \n",
    "    plt.legend(loc='center')\n",
    "    plt.show()"
   ]
  },
  {
   "cell_type": "markdown",
   "metadata": {},
   "source": [
    "## Preparation"
   ]
  },
  {
   "cell_type": "markdown",
   "metadata": {},
   "source": [
    "**PROBLEM**: Load the image data into a pandas dataset. "
   ]
  },
  {
   "cell_type": "code",
   "execution_count": null,
   "metadata": {},
   "outputs": [],
   "source": [
    "# Load data into a dataframe\n",
    "df_image=pd.read_\n",
    "\n"
   ]
  },
  {
   "cell_type": "code",
   "execution_count": null,
   "metadata": {},
   "outputs": [],
   "source": [
    "# View the top rows\n",
    "\n",
    "\n"
   ]
  },
  {
   "cell_type": "markdown",
   "metadata": {},
   "source": [
    "**PROBLEM**: Check the data. Is it complete? Right shape? Any problems or inconsistencies?"
   ]
  },
  {
   "cell_type": "code",
   "execution_count": null,
   "metadata": {},
   "outputs": [],
   "source": [
    "# Check the data and fix any problems\n",
    "\n",
    "\n",
    "\n"
   ]
  },
  {
   "cell_type": "markdown",
   "metadata": {},
   "source": [
    "**PROBLEM**: Separate data into target variable and features."
   ]
  },
  {
   "cell_type": "code",
   "execution_count": null,
   "metadata": {},
   "outputs": [],
   "source": [
    "# Separate features and target\n",
    "\n",
    "\n"
   ]
  },
  {
   "cell_type": "markdown",
   "metadata": {},
   "source": [
    "**PROBLEM**: Basic Feature Engineering."
   ]
  },
  {
   "cell_type": "code",
   "execution_count": null,
   "metadata": {},
   "outputs": [],
   "source": [
    "# Normalize all features to be between 0 and 1\n",
    "\n",
    "\n"
   ]
  },
  {
   "cell_type": "markdown",
   "metadata": {},
   "source": [
    "**PROBLEM**: Inspect distribution of target."
   ]
  },
  {
   "cell_type": "code",
   "execution_count": null,
   "metadata": {},
   "outputs": [],
   "source": [
    "# Check distribution of the labels (across numerical digits)\n",
    "\n",
    "\n"
   ]
  },
  {
   "cell_type": "markdown",
   "metadata": {},
   "source": [
    "**PROBLEM**: Plot images 27, 83, and 158 in ONE dimension.  "
   ]
  },
  {
   "cell_type": "code",
   "execution_count": null,
   "metadata": {},
   "outputs": [],
   "source": [
    "# Plot images 27, 83, and 158 in one dimension\n",
    "\n",
    "\n"
   ]
  },
  {
   "cell_type": "markdown",
   "metadata": {},
   "source": [
    "**PROBLEM**: Plot images 27, 83, and 158 in TWO dimensions. Tip: use `plt.imshow()`"
   ]
  },
  {
   "cell_type": "code",
   "execution_count": null,
   "metadata": {},
   "outputs": [],
   "source": [
    "# Plot images 27, 83, and 158 in TWO dimensions\n",
    "\n",
    "\n"
   ]
  },
  {
   "cell_type": "markdown",
   "metadata": {},
   "source": [
    "**PROBLEM**: Create Training and Testing sets. Be sure to use SEED so our results and your results are comparable. "
   ]
  },
  {
   "cell_type": "code",
   "execution_count": null,
   "metadata": {},
   "outputs": [],
   "source": [
    "# Create Training and Testing sets  \n",
    "X_train, X_test, y_train, y_test = \n",
    "\n"
   ]
  },
  {
   "cell_type": "markdown",
   "metadata": {},
   "source": [
    "## Baseline Classifier\n",
    "\n",
    "Before getting started on specific models, run a baseline classifier to set a benchmark for improved models."
   ]
  },
  {
   "cell_type": "markdown",
   "metadata": {},
   "source": [
    "**PROBLEM**: Use the `DummyClassifier()` model to make a baseline prediction."
   ]
  },
  {
   "cell_type": "code",
   "execution_count": null,
   "metadata": {},
   "outputs": [],
   "source": [
    "# Define a baseline using DummyClassifier() and print the baseline accuracy. Remember to set the SEED!\n",
    "\n",
    "\n"
   ]
  },
  {
   "cell_type": "markdown",
   "metadata": {},
   "source": [
    "**QUESTION**: What was the baseline accuracy? Is that what you expected? Why or why not? "
   ]
  },
  {
   "cell_type": "markdown",
   "metadata": {},
   "source": [
    "**Answer**: \n",
    "\n",
    "\n",
    "\n"
   ]
  },
  {
   "cell_type": "markdown",
   "metadata": {},
   "source": [
    "**QUESTION**: One might think that the baseline accuracy we received as technically impossible... Why would it have been impossible? Why was it in fact possible?  "
   ]
  },
  {
   "cell_type": "markdown",
   "metadata": {},
   "source": [
    "**Answer**: \n",
    "\n",
    "\n",
    "\n"
   ]
  },
  {
   "cell_type": "markdown",
   "metadata": {},
   "source": [
    "**QUESTION**: What \"strategy\" parameter should you pass to `DummyClassifier()` and why? "
   ]
  },
  {
   "cell_type": "markdown",
   "metadata": {},
   "source": [
    "**Answer**: \n",
    "\n",
    "\n",
    "\n"
   ]
  },
  {
   "cell_type": "markdown",
   "metadata": {},
   "source": [
    "## Compare to Traditional Machine Learning Models"
   ]
  },
  {
   "cell_type": "markdown",
   "metadata": {},
   "source": [
    "#### Regularized Logit Model"
   ]
  },
  {
   "cell_type": "markdown",
   "metadata": {},
   "source": [
    "**PROBLEM** **PROBLEM** **PROBLEM** **PROBLEM**: Use a Ridge-Regularized Multinomial Logit Model to predict labels. \n",
    "  * Use a stratified K-Fold cross-validation schema with 3 folds.\n",
    "  * Tune hyperparameter C, from logspace 10^-5 to 10^5, in steps of 1 in the exponent.\n",
    "  * Use **`accuracy`** for the tuning score.\n",
    "  * Use the `validation_curve()` function from sklearn to train and validate models across C.\n",
    "  * Set `n_jobs` to -1 to use all available CPU cores on your computer.\n",
    "  * Set the random seed.  \n",
    "    \n",
    "( **Worth 4 points**)"
   ]
  },
  {
   "cell_type": "code",
   "execution_count": null,
   "metadata": {},
   "outputs": [],
   "source": [
    "# Define model\n",
    "\n",
    "\n",
    "\n",
    "\n",
    "# Now use the validation_curve() function to train/validate models...\n",
    "\n",
    "\n"
   ]
  },
  {
   "cell_type": "markdown",
   "metadata": {},
   "source": [
    "**PROBLEM**: Plot a validation curve across levels of C, using a logscale for the x axis."
   ]
  },
  {
   "cell_type": "code",
   "execution_count": null,
   "metadata": {},
   "outputs": [],
   "source": [
    "# Plot a validation curve  \n",
    "\n",
    "\n"
   ]
  },
  {
   "cell_type": "markdown",
   "metadata": {},
   "source": [
    "**PROBLEM**: What was the best value of C?"
   ]
  },
  {
   "cell_type": "code",
   "execution_count": null,
   "metadata": {},
   "outputs": [],
   "source": [
    "# Obtain the best value of the hyper parameter\n",
    "\n",
    "\n",
    "\n"
   ]
  },
  {
   "cell_type": "markdown",
   "metadata": {},
   "source": [
    "**QUESTION**: Should we believe this particular \"optimal\" value of C. Why or why not? "
   ]
  },
  {
   "cell_type": "code",
   "execution_count": null,
   "metadata": {},
   "outputs": [],
   "source": [
    "# View cross validation scores\n",
    "\n",
    "\n"
   ]
  },
  {
   "cell_type": "markdown",
   "metadata": {},
   "source": [
    "**Answer**: \n",
    "\n"
   ]
  },
  {
   "cell_type": "markdown",
   "metadata": {},
   "source": [
    "**QUESTION**: Comment on the performance of the Logit Model overall. Why did it (or did it not) perform well? Also comment on how regularization affected your results, and explain why regularization performed as it did. "
   ]
  },
  {
   "cell_type": "markdown",
   "metadata": {},
   "source": [
    "**Answer**: \n",
    "\n",
    "\n",
    "\n"
   ]
  },
  {
   "cell_type": "markdown",
   "metadata": {},
   "source": [
    "**QUESTION**: Would these results survive manipulation of the underlying picture (for example, randonly shifting pictures left/right or rotating them). "
   ]
  },
  {
   "cell_type": "markdown",
   "metadata": {},
   "source": [
    "**Answer**: \n",
    "\n",
    "\n"
   ]
  },
  {
   "cell_type": "markdown",
   "metadata": {},
   "source": [
    "**PROBLEM**: What is the accuracy of the Logit Model on the __test set__ at the best value of C?"
   ]
  },
  {
   "cell_type": "code",
   "execution_count": null,
   "metadata": {},
   "outputs": [],
   "source": [
    "# Calculate Accuracy of Logit Model on the test set at best value of C\n",
    "\n",
    "\n"
   ]
  },
  {
   "cell_type": "markdown",
   "metadata": {},
   "source": [
    "## KNN Classifier"
   ]
  },
  {
   "cell_type": "markdown",
   "metadata": {},
   "source": [
    "**PROBLEM**: Repeat the exercise above with a KNN Classifier to predict labels. \n",
    "  * Use a stratified K-Fold cross-validation schema with 3 folds.\n",
    "  * Tune hyperparameter K from K=5 to K=45, in 5 point increments. \n",
    "  * Make sure to use the random state SEED, and remember that KNN will be slow to run...\n",
    "  * Use **`accuracy`** for the tuning score.\n",
    "  * Use the `validation_curve()` function from sklearn to train and validate models across K.\n",
    "  * Set `n_jobs` to -1 to use all available CPU cores on your computer.\n",
    "  * Set the random seed."
   ]
  },
  {
   "cell_type": "code",
   "execution_count": null,
   "metadata": {},
   "outputs": [],
   "source": [
    "# Use a KNN Classifier to predict labels\n",
    "\n",
    "\n",
    "\n"
   ]
  },
  {
   "cell_type": "markdown",
   "metadata": {},
   "source": [
    "**PROBLEM**: Use the `validation_curve()` function to plot the Training and Cross-Validated results."
   ]
  },
  {
   "cell_type": "code",
   "execution_count": null,
   "metadata": {},
   "outputs": [],
   "source": [
    "# Plot a validation curve across levels of K\n",
    "\n",
    "\n"
   ]
  },
  {
   "cell_type": "markdown",
   "metadata": {},
   "source": [
    "**QUESTION**: Comment on and explain your results from the KNN Model. "
   ]
  },
  {
   "cell_type": "markdown",
   "metadata": {},
   "source": [
    "**Answer**: \n",
    "\n",
    "\n"
   ]
  },
  {
   "cell_type": "markdown",
   "metadata": {},
   "source": [
    "**PROBLEM**: What is the accuracy of the KNN Model on the __test set__ at the best value of K?"
   ]
  },
  {
   "cell_type": "code",
   "execution_count": null,
   "metadata": {},
   "outputs": [],
   "source": [
    "# Obtain the best value of the hyper parameter\n",
    "\n",
    "\n",
    "\n",
    "\n",
    "# Calculate Accuracy of KNN Model on the test set at best value of K\n",
    "\n",
    "\n"
   ]
  },
  {
   "cell_type": "markdown",
   "metadata": {},
   "source": [
    "## Random Forest"
   ]
  },
  {
   "cell_type": "markdown",
   "metadata": {},
   "source": [
    "**PROBLEM**: Repeat the exercise above with a Random Forest Classifier to predict labels. \n",
    "  * Use a stratified K-Fold cross-validation schema with 3 folds.\n",
    "  * Tune hyperparameter K from K=5 to K=45, in 5 point increments. \n",
    "  * Make sure to use the random state SEED, and remember that KNN will be slow to run...\n",
    "  * Use **`accuracy`** for the tuning score.\n",
    "  * Use the `validation_curve()` function from sklearn to train and validate models across K.\n",
    "  * Set `n_jobs` to -1 to use all available CPU cores on your computer.\n",
    "  * Set the random seed."
   ]
  },
  {
   "cell_type": "code",
   "execution_count": null,
   "metadata": {},
   "outputs": [],
   "source": [
    "# Use a Random Forest Classifier to predict labels\n",
    "\n",
    "\n"
   ]
  },
  {
   "cell_type": "markdown",
   "metadata": {},
   "source": [
    "**PROBLEM**: Use the `validation_curve()` function to plot the Training and Cross-Validated results."
   ]
  },
  {
   "cell_type": "code",
   "execution_count": null,
   "metadata": {},
   "outputs": [],
   "source": [
    "# Plot a validation curve across Number of Estimators in Random Forest\n",
    "\n",
    "\n"
   ]
  },
  {
   "cell_type": "markdown",
   "metadata": {},
   "source": [
    "**QUESTION**: Comment on and explain your results from the Random Forest Model. "
   ]
  },
  {
   "cell_type": "markdown",
   "metadata": {},
   "source": [
    "**Answer**: \n",
    "\n",
    "\n"
   ]
  },
  {
   "cell_type": "markdown",
   "metadata": {},
   "source": [
    "**QUESTION**: Comment on the behavior of the Training accuracy and the Cross-Validation accuracy in the Random Forest model for this problem. Explain why you think they performed (relatively) as they did. "
   ]
  },
  {
   "cell_type": "code",
   "execution_count": null,
   "metadata": {},
   "outputs": [],
   "source": [
    "# Do some inspections...\n",
    "\n",
    "\n"
   ]
  },
  {
   "cell_type": "code",
   "execution_count": null,
   "metadata": {},
   "outputs": [],
   "source": [
    "# Do some inspections...\n",
    "\n",
    "\n"
   ]
  },
  {
   "cell_type": "markdown",
   "metadata": {},
   "source": [
    "**Answer**: \n",
    "\n",
    "\n"
   ]
  },
  {
   "cell_type": "markdown",
   "metadata": {},
   "source": [
    "**PROBLEM**: What is the accuracy of the Random Forest Model on the test set at the best value of N Estimators?"
   ]
  },
  {
   "cell_type": "code",
   "execution_count": null,
   "metadata": {},
   "outputs": [],
   "source": [
    "# Obtain the best value of the hyper parameter\n",
    "\n",
    "\n",
    "\n",
    "\n",
    "# Calculate Accuracy of Random Forest Model at best value of N Estimators\n",
    "\n",
    "\n"
   ]
  },
  {
   "cell_type": "markdown",
   "metadata": {},
   "source": [
    "# PART 4: Convolutional Neural Networks (CNN) "
   ]
  },
  {
   "cell_type": "markdown",
   "metadata": {},
   "source": [
    "**PROBLEM**: Prepare data for a CNN. "
   ]
  },
  {
   "cell_type": "code",
   "execution_count": null,
   "metadata": {},
   "outputs": [],
   "source": [
    "# Reshape image into 3 dimensions where third dimension is only 1 deep (so: height = 28px, width = 28px , canal = 1)\n",
    "\n",
    "\n"
   ]
  },
  {
   "cell_type": "code",
   "execution_count": null,
   "metadata": {},
   "outputs": [],
   "source": [
    "# Encode target labels to one hot vectors\n",
    "\n",
    "\n"
   ]
  },
  {
   "cell_type": "markdown",
   "metadata": {},
   "source": [
    "**PROBLEM**: Print the value of some pixels from the new, reshaped array to show you can access the data. "
   ]
  },
  {
   "cell_type": "code",
   "execution_count": null,
   "metadata": {},
   "outputs": [],
   "source": [
    "# Print first pixel in first observation\n",
    "\n"
   ]
  },
  {
   "cell_type": "code",
   "execution_count": null,
   "metadata": {},
   "outputs": [],
   "source": [
    "# Print last pixel in last observation\n",
    "\n"
   ]
  },
  {
   "cell_type": "code",
   "execution_count": null,
   "metadata": {},
   "outputs": [],
   "source": [
    "# Print pixel from Observation 1234, horizontal offset 23, vertical offset 12\n",
    "\n"
   ]
  },
  {
   "cell_type": "markdown",
   "metadata": {},
   "source": [
    "**PROBLEM**: Make a custom function to build and return a CNN object from TensorFlow.Keras (version 2). "
   ]
  },
  {
   "cell_type": "code",
   "execution_count": null,
   "metadata": {},
   "outputs": [],
   "source": [
    "# Custom function to build and return a cnn model from TensorFlow.Keras (version 2)\n",
    "def cnn_model():\n",
    "    \n",
    "    model = ___________\n",
    "    \n",
    "    \n",
    "    \n",
    "    \n",
    "    \n",
    "    \n",
    "    \n",
    "    \n",
    "    \n",
    "    \n",
    "    \n",
    "\n",
    "    return model"
   ]
  },
  {
   "cell_type": "markdown",
   "metadata": {},
   "source": [
    "**PROBLEM**: Instantiate a model from your function above and print a diagram for it. "
   ]
  },
  {
   "cell_type": "code",
   "execution_count": null,
   "metadata": {},
   "outputs": [],
   "source": [
    "# Instantiate a model from your function above and print a diagram for it.\n",
    "\n",
    "\n"
   ]
  },
  {
   "cell_type": "markdown",
   "metadata": {},
   "source": [
    "**PROBLEM**: Fit the model for 10 epochs and a batch size of 200, and then print a summary. _Tip:_ Be sure to use the reshaped training data."
   ]
  },
  {
   "cell_type": "code",
   "execution_count": null,
   "metadata": {},
   "outputs": [],
   "source": [
    "# Further split the training set into a learning set and a validation set (do NOT stratify again -- that will break function and was already getting the training set)\n",
    "\n",
    "\n",
    "# Fit the model and print a summary\n",
    "\n"
   ]
  },
  {
   "cell_type": "markdown",
   "metadata": {},
   "source": [
    "**PROBLEM**: Evaluate the trained CNN model on the test set and print the loss score and accuracy score. "
   ]
  },
  {
   "cell_type": "code",
   "execution_count": null,
   "metadata": {},
   "outputs": [],
   "source": [
    "%%capture\n",
    "# Evaluate trained model on test set\n",
    "\n"
   ]
  },
  {
   "cell_type": "code",
   "execution_count": null,
   "metadata": {},
   "outputs": [],
   "source": [
    "# Print the loss and accuracy scores\n",
    "\n",
    "\n"
   ]
  },
  {
   "cell_type": "markdown",
   "metadata": {},
   "source": [
    "**PROBLEM**: Get the predicted values and identify the correct cases/incorrect cases. "
   ]
  },
  {
   "cell_type": "code",
   "execution_count": null,
   "metadata": {},
   "outputs": [],
   "source": [
    "# Get predicted values\n",
    "predicted_classes =  \n",
    "target_val_orig   =                # Get original (not one-hot-encoded) label\n",
    "correct_indices   =                # Get index list of correctly predicted values\n",
    "incorrect_indices =                # Get index list of incorrectly predicted values"
   ]
  },
  {
   "cell_type": "markdown",
   "metadata": {},
   "source": [
    "**PROBLEM**: Print number of correctly and incorrectly clasified observations. "
   ]
  },
  {
   "cell_type": "code",
   "execution_count": null,
   "metadata": {},
   "outputs": [],
   "source": [
    "# Print number of correctly and incorrectly clasified observations\n",
    "\n"
   ]
  },
  {
   "cell_type": "markdown",
   "metadata": {},
   "source": [
    "**PROBLEM**: Display 5 examples of incorrectly classified images. "
   ]
  },
  {
   "cell_type": "code",
   "execution_count": null,
   "metadata": {},
   "outputs": [],
   "source": [
    "# Display the first 5 examples of incorrectly classified images\n",
    "\n",
    "\n"
   ]
  },
  {
   "cell_type": "markdown",
   "metadata": {},
   "source": [
    "**QUESTION**: Explain why you think the CNN made an error on those observations. "
   ]
  },
  {
   "cell_type": "markdown",
   "metadata": {},
   "source": [
    "**Answer**: \n",
    "\n"
   ]
  },
  {
   "cell_type": "markdown",
   "metadata": {},
   "source": [
    "**PROBLEM**: Predict and then use the plot the custom `plot_confusion_matrix()` function to plot the confustion matrix for all ten digits. "
   ]
  },
  {
   "cell_type": "code",
   "execution_count": null,
   "metadata": {},
   "outputs": [],
   "source": [
    "# Print the confustion matrix for all ten digits\n",
    "\n",
    "\n"
   ]
  },
  {
   "cell_type": "markdown",
   "metadata": {},
   "source": [
    "# PART 5: Stress Your Data and Re-Run Models and Tests"
   ]
  },
  {
   "cell_type": "markdown",
   "metadata": {},
   "source": [
    "This final part of this assignment is **open-ended...** \n",
    "\n",
    "Think of ways to distort, manipulate, and stress your training data (i.e., generate new images that can be added to your training data). After supplementing your dataset with the new images, re-run a Logit Model and a CNN model. Compare how the two models perform (relatively) given the new stressed training data. \n",
    "\n",
    "Explain what you find. \n",
    "\n",
    "**This is worth 25% of the entire assignment**, so be creative and thorough."
   ]
  }
 ],
 "metadata": {
  "kernel_info": {
   "name": "python3"
  },
  "kernelspec": {
   "display_name": "Python 3",
   "language": "python",
   "name": "python3"
  },
  "language_info": {
   "codemirror_mode": {
    "name": "ipython",
    "version": 3
   },
   "file_extension": ".py",
   "mimetype": "text/x-python",
   "name": "python",
   "nbconvert_exporter": "python",
   "pygments_lexer": "ipython3",
   "version": "3.7.6"
  },
  "nteract": {
   "version": "0.15.0"
  }
 },
 "nbformat": 4,
 "nbformat_minor": 4
}
